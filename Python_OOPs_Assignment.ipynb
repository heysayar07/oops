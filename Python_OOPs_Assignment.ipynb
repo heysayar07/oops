{
 "cells": [
  {
   "cell_type": "markdown",
   "id": "23707385",
   "metadata": {},
   "source": [
    "# Python OOPs Assignment\n"
   ]
  },
  {
   "cell_type": "markdown",
   "id": "85e09feb",
   "metadata": {},
   "source": [
    "---\n"
   ]
  },
  {
   "cell_type": "markdown",
   "id": "5a9b6fd4",
   "metadata": {},
   "source": [
    "## 1. What is Object-Oriented Programming (OOP)\n"
   ]
  },
  {
   "cell_type": "markdown",
   "id": "eca06a8e",
   "metadata": {},
   "source": [
    "Object-Oriented Programming (OOP) is a programming paradigm based on the concept of 'objects', which can contain data in the form of fields and code in the form of methods.\n"
   ]
  },
  {
   "cell_type": "markdown",
   "id": "9b071a00",
   "metadata": {},
   "source": [
    "---\n"
   ]
  },
  {
   "cell_type": "markdown",
   "id": "aaab17f4",
   "metadata": {},
   "source": [
    "## 2. What is a class in OOP\n"
   ]
  },
  {
   "cell_type": "code",
   "execution_count": null,
   "id": "82004123",
   "metadata": {},
   "outputs": [],
   "source": [
    "A class in OOP is a blueprint for creating objects. It defines attributes and methods that the created objects (instances) will have.\n"
   ]
  },
  {
   "cell_type": "markdown",
   "id": "d4d4e382",
   "metadata": {},
   "source": [
    "---\n"
   ]
  },
  {
   "cell_type": "markdown",
   "id": "6f1d5490",
   "metadata": {},
   "source": [
    "## 3. What is an object in OOP\n"
   ]
  },
  {
   "cell_type": "markdown",
   "id": "90bd2ca9",
   "metadata": {},
   "source": [
    "An object is an instance of a class. It contains actual values and functionality defined in the class.\n"
   ]
  },
  {
   "cell_type": "markdown",
   "id": "9c2fbac2",
   "metadata": {},
   "source": [
    "---\n"
   ]
  },
  {
   "cell_type": "markdown",
   "id": "f299fd7b",
   "metadata": {},
   "source": [
    "# ... (continue for all theory questions) ...\n"
   ]
  },
  {
   "cell_type": "markdown",
   "id": "938c664f",
   "metadata": {},
   "source": [
    "# Code Examples\n"
   ]
  },
  {
   "cell_type": "markdown",
   "id": "a448dfe0",
   "metadata": {},
   "source": [
    "## 1. Animal and Dog Class Example\n"
   ]
  },
  {
   "cell_type": "code",
   "execution_count": null,
   "id": "83848833",
   "metadata": {},
   "outputs": [],
   "source": [
    "class Animal:\n"
   ]
  },
  {
   "cell_type": "markdown",
   "id": "98967b41",
   "metadata": {},
   "source": [
    "    def speak(self):\n"
   ]
  },
  {
   "cell_type": "code",
   "execution_count": null,
   "id": "37c1d0f6",
   "metadata": {},
   "outputs": [],
   "source": [
    "        print(\"Animal speaks\")\n",
    "\n"
   ]
  },
  {
   "cell_type": "code",
   "execution_count": null,
   "id": "8440ba88",
   "metadata": {},
   "outputs": [],
   "source": [
    "class Dog(Animal):\n"
   ]
  },
  {
   "cell_type": "markdown",
   "id": "72ba2e0f",
   "metadata": {},
   "source": [
    "    def speak(self):\n"
   ]
  },
  {
   "cell_type": "code",
   "execution_count": null,
   "id": "89b232bf",
   "metadata": {},
   "outputs": [],
   "source": [
    "        print(\"Bark!\")\n",
    "\n"
   ]
  },
  {
   "cell_type": "markdown",
   "id": "720956b1",
   "metadata": {},
   "source": [
    "d = Dog()\n"
   ]
  },
  {
   "cell_type": "code",
   "execution_count": null,
   "id": "d7852e1f",
   "metadata": {},
   "outputs": [],
   "source": [
    "d.speak()\n"
   ]
  },
  {
   "cell_type": "markdown",
   "id": "c7e7ae0d",
   "metadata": {},
   "source": [
    "# ... (continue for each coding question) ...\n"
   ]
  }
 ],
 "metadata": {},
 "nbformat": 4,
 "nbformat_minor": 5
}
